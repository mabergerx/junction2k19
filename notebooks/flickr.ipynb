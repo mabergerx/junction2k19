{
 "cells": [
  {
   "cell_type": "code",
   "execution_count": 2,
   "metadata": {},
   "outputs": [],
   "source": [
    "# ! pip install flickr_api"
   ]
  },
  {
   "cell_type": "code",
   "execution_count": 3,
   "metadata": {},
   "outputs": [],
   "source": [
    "import flickr_api\n",
    "flickr_api.set_keys(api_key = 'dd490c0229e641892fe8bab89ebb7e14', api_secret = '9da98577f2bb29ae')"
   ]
  },
  {
   "cell_type": "code",
   "execution_count": 39,
   "metadata": {},
   "outputs": [],
   "source": [
    "# photos = flickr_api.Photo.search(lon=24.516951, lat=60.298078, radius='10.0', radius_units=\"km\")\n",
    "photos = flickr_api.Photo.search(tags=\"nuuksio\", has_geo=True)"
   ]
  },
  {
   "cell_type": "code",
   "execution_count": 42,
   "metadata": {},
   "outputs": [
    {
     "data": {
      "text/plain": [
       "{'id': '36655711751',\n",
       " 'secret': 'd32e292905',\n",
       " 'server': '4422',\n",
       " 'farm': 5,\n",
       " 'dateuploaded': '1503665765',\n",
       " 'isfavorite': 0,\n",
       " 'license': '3',\n",
       " 'safety_level': '0',\n",
       " 'rotation': 0,\n",
       " 'originalsecret': 'aa5ec424a6',\n",
       " 'originalformat': 'jpg',\n",
       " 'owner': Person(id=b'76016871@N00', username=b'Manolo Frias'),\n",
       " 'title': '2017-08-21 15.35.12-1',\n",
       " 'description': '',\n",
       " 'views': '41',\n",
       " 'editability': {'cancomment': 0, 'canaddmeta': 0},\n",
       " 'comments': '0',\n",
       " 'notes': [],\n",
       " 'people': {'haspeople': 0},\n",
       " 'tags': [Tag(id=b'1330397-3665571175..., text=b'helcom'),\n",
       "  Tag(id=b'1330397-3665571175..., text=b'helsinkicommission...),\n",
       "  Tag(id=b'1330397-3665571175..., text=b'nuuksio'),\n",
       "  Tag(id=b'1330397-3665571175..., text=b'secretariat'),\n",
       "  Tag(id=b'1330397-3665571175..., text=b'secretariatday'),\n",
       "  Tag(id=b'1330397-3665571175..., text=b'finland'),\n",
       "  Tag(id=b'1330397-3665571175..., text=b'espoo')],\n",
       " 'location': {'latitude': '60.327083',\n",
       "  'longitude': '24.492497',\n",
       "  'accuracy': '16',\n",
       "  'context': '0',\n",
       "  'neighbourhood': {'text': '', 'woeid': 0},\n",
       "  'county': {'text': 'Helsingin', 'woeid': 56120851},\n",
       "  'region': {'text': 'Uudenmaan maakunta', 'woeid': 29389247},\n",
       "  'country': {'text': 'Suomi', 'woeid': 23424812}},\n",
       " 'geoperms': {'ispublic': 1, 'iscontact': 0, 'isfriend': 0, 'isfamily': 0},\n",
       " 'urls': {'url': [{'type': 'photopage',\n",
       "    'text': 'https://www.flickr.com/photos/manolofrias/36655711751/'}]},\n",
       " 'media': 'photo',\n",
       " 'candownload': 1,\n",
       " 'canblog': 0,\n",
       " 'canprint': 0,\n",
       " 'canshare': 1,\n",
       " 'ispublic': 1,\n",
       " 'isfriend': 0,\n",
       " 'isfamily': 0,\n",
       " 'cancomment': 1,\n",
       " 'canaddmeta': 0,\n",
       " 'posted': '1503665765',\n",
       " 'taken': '2017-08-21 15:35:12',\n",
       " 'takengranularity': '0',\n",
       " 'takenunknown': '0',\n",
       " 'lastupdate': '1503665774'}"
      ]
     },
     "execution_count": 42,
     "metadata": {},
     "output_type": "execute_result"
    }
   ],
   "source": [
    "photos[78].getInfo()"
   ]
  },
  {
   "cell_type": "code",
   "execution_count": 41,
   "metadata": {},
   "outputs": [
    {
     "data": {
      "text/plain": [
       "250"
      ]
     },
     "execution_count": 41,
     "metadata": {},
     "output_type": "execute_result"
    }
   ],
   "source": [
    "len(photos)"
   ]
  },
  {
   "cell_type": "code",
   "execution_count": null,
   "metadata": {},
   "outputs": [],
   "source": []
  }
 ],
 "metadata": {
  "kernelspec": {
   "display_name": "Python 3",
   "language": "python",
   "name": "python3"
  },
  "language_info": {
   "codemirror_mode": {
    "name": "ipython",
    "version": 3
   },
   "file_extension": ".py",
   "mimetype": "text/x-python",
   "name": "python",
   "nbconvert_exporter": "python",
   "pygments_lexer": "ipython3",
   "version": "3.6.8"
  }
 },
 "nbformat": 4,
 "nbformat_minor": 4
}
