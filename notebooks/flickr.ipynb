{
 "cells": [
  {
   "cell_type": "code",
   "execution_count": 2,
   "metadata": {},
   "outputs": [],
   "source": [
    "# ! pip install flickr_api"
   ]
  },
  {
   "cell_type": "code",
   "execution_count": 18,
   "metadata": {},
   "outputs": [],
   "source": [
    "from itertools import chain"
   ]
  },
  {
   "cell_type": "code",
   "execution_count": 5,
   "metadata": {},
   "outputs": [],
   "source": [
    "import flickr_api\n",
    "flickr_api.set_keys(api_key = 'dd490c0229e641892fe8bab89ebb7e14', api_secret = '9da98577f2bb29ae')"
   ]
  },
  {
   "cell_type": "code",
   "execution_count": 6,
   "metadata": {},
   "outputs": [],
   "source": [
    "# photos = flickr_api.Photo.search(lon=24.516951, lat=60.298078, radius='10.0', radius_units=\"km\")\n",
    "# photos = flickr_api.Photo.search(tags=\"nuuksio\", has_geo=True)"
   ]
  },
  {
   "cell_type": "code",
   "execution_count": 26,
   "metadata": {},
   "outputs": [],
   "source": [
    "def search_name_and_gps(lat, lon, name):\n",
    "    gps_walker = flickr_api.Walker(flickr_api.Photo.search, lat=lat, lon=lon, \n",
    "                                  radius=\"0.1\", radius_units=\"km\", per_page=500)\n",
    "    name_walker = flickr_api.Walker(flickr_api.Photo.search, text=name)\n",
    "    \n",
    "    return chain(gps_walker, name_walker)"
   ]
  },
  {
   "cell_type": "code",
   "execution_count": 27,
   "metadata": {},
   "outputs": [],
   "source": [
    "# w = flickr_api.Walker(flickr_api.Photo.search, lat=60.2604953, lon=24.5061496,\n",
    "#                       has_geo=True, radius=\"1\", radius_units=\"km\", per_page=500)"
   ]
  },
  {
   "cell_type": "code",
   "execution_count": 28,
   "metadata": {},
   "outputs": [],
   "source": [
    "w = search_name_and_gps(lat=60.2604953, lon=24.5061496, name=\"Hotel Lepolampi\")"
   ]
  },
  {
   "cell_type": "code",
   "execution_count": 29,
   "metadata": {},
   "outputs": [
    {
     "name": "stdout",
     "output_type": "stream",
     "text": [
      "{'id': '30856795036', 'secret': 'c3f07e6e0a', 'server': '5701', 'farm': 6, 'dateuploaded': '1478788990', 'isfavorite': 0, 'license': '7', 'safety_level': '0', 'rotation': 0, 'originalsecret': 'c151872939', 'originalformat': 'jpg', 'owner': Person(id=b'108605878@N06', username=b'The Finnish Museum...), 'title': 'Kulutusosuuskuntien Keskusliiton kokoelma D1974_33_11331ExxA', 'description': \"Promotional image of Hotel Lepolampi in Espoo. The hotel was owned by Lomaliitto organization, that offered free or low-cost vacations to working class people who couldn't afford them themselves. / Lomaliiton Espoossa sijainneen Hotelli Lepolammen mainoskuva. Liitto järjesti ilmaisia tai halpoja lomia vähävaraisille.\\n\\nphotographer unknown / kuvaaja tuntematon\\n\\n1955\\n\\nEspoo, Uusimaa, Finland\\n\\nFinnish Museum of Photography / Suomen valokuvataiteen museo\", 'views': '2623', 'editability': {'cancomment': 0, 'canaddmeta': 0}, 'comments': '0', 'notes': [], 'people': {'haspeople': 0}, 'tags': [], 'urls': {'url': [{'type': 'photopage', 'text': 'https://www.flickr.com/photos/valokuvataiteenmuseo/30856795036/'}]}, 'media': 'photo', 'candownload': 1, 'canblog': 0, 'canprint': 0, 'canshare': 1, 'ispublic': 1, 'isfriend': 0, 'isfamily': 0, 'cancomment': 1, 'canaddmeta': 1, 'posted': '1478788990', 'taken': '2016-09-21 17:17:16', 'takengranularity': '0', 'takenunknown': '0', 'lastupdate': '1491452404'}\n"
     ]
    }
   ],
   "source": [
    "for item in w:\n",
    "    print(item.getInfo())\n",
    "    break"
   ]
  },
  {
   "cell_type": "code",
   "execution_count": 32,
   "metadata": {},
   "outputs": [
    {
     "ename": "TypeError",
     "evalue": "getSizes() missing 1 required positional argument: 'self'",
     "output_type": "error",
     "traceback": [
      "\u001b[0;31m---------------------------------------------------------------------------\u001b[0m",
      "\u001b[0;31mTypeError\u001b[0m                                 Traceback (most recent call last)",
      "\u001b[0;32m<ipython-input-32-56835333e5a7>\u001b[0m in \u001b[0;36m<module>\u001b[0;34m\u001b[0m\n\u001b[0;32m----> 1\u001b[0;31m \u001b[0mflickr_api\u001b[0m\u001b[0;34m.\u001b[0m\u001b[0mPhoto\u001b[0m\u001b[0;34m.\u001b[0m\u001b[0mgetSizes\u001b[0m\u001b[0;34m(\u001b[0m\u001b[0;34m)\u001b[0m\u001b[0;34m\u001b[0m\u001b[0;34m\u001b[0m\u001b[0m\n\u001b[0m",
      "\u001b[0;31mTypeError\u001b[0m: getSizes() missing 1 required positional argument: 'self'"
     ]
    }
   ],
   "source": [
    "flickr_api.Photo.getSizes()"
   ]
  },
  {
   "cell_type": "code",
   "execution_count": null,
   "metadata": {},
   "outputs": [],
   "source": []
  }
 ],
 "metadata": {
  "kernelspec": {
   "display_name": "Python 3",
   "language": "python",
   "name": "python3"
  },
  "language_info": {
   "codemirror_mode": {
    "name": "ipython",
    "version": 3
   },
   "file_extension": ".py",
   "mimetype": "text/x-python",
   "name": "python",
   "nbconvert_exporter": "python",
   "pygments_lexer": "ipython3",
   "version": "3.7.5"
  }
 },
 "nbformat": 4,
 "nbformat_minor": 4
}
