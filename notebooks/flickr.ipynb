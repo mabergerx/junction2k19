{
 "cells": [
  {
   "cell_type": "code",
   "execution_count": 2,
   "metadata": {},
   "outputs": [],
   "source": [
    "# ! pip install flickr_api"
   ]
  },
  {
   "cell_type": "code",
   "execution_count": 18,
   "metadata": {},
   "outputs": [],
   "source": [
    "from itertools import chain"
   ]
  },
  {
   "cell_type": "code",
   "execution_count": 116,
   "metadata": {},
   "outputs": [],
   "source": [
    "# ! pip install scikit-learn"
   ]
  },
  {
   "cell_type": "code",
   "execution_count": 117,
   "metadata": {},
   "outputs": [],
   "source": [
    "from sklearn.feature_extraction import stop_words"
   ]
  },
  {
   "cell_type": "code",
   "execution_count": 5,
   "metadata": {},
   "outputs": [],
   "source": [
    "import flickr_api\n",
    "flickr_api.set_keys(api_key = '##KEY##', api_secret = '##SECRET##')"
   ]
  },
  {
   "cell_type": "code",
   "execution_count": 6,
   "metadata": {},
   "outputs": [],
   "source": [
    "# photos = flickr_api.Photo.search(lon=24.516951, lat=60.298078, radius='10.0', radius_units=\"km\")\n",
    "# photos = flickr_api.Photo.search(tags=\"nuuksio\", has_geo=True)"
   ]
  },
  {
   "cell_type": "code",
   "execution_count": 92,
   "metadata": {},
   "outputs": [],
   "source": [
    "def search_name_and_gps(lat, lon, name):\n",
    "    gps_walker = flickr_api.Photo.search(lat=lat, lon=lon, \n",
    "                                  radius=\"0.2\", radius_units=\"km\", per_page=10)\n",
    "    name_walker = flickr_api.Photo.search(text=name, per_page=10)\n",
    "    \n",
    "    return chain(gps_walker, name_walker)"
   ]
  },
  {
   "cell_type": "code",
   "execution_count": 88,
   "metadata": {},
   "outputs": [],
   "source": [
    "# w = flickr_api.Walker(flickr_api.Photo.search, lat=60.2604953, lon=24.5061496,\n",
    "#                       has_geo=True, radius=\"1\", radius_units=\"km\", per_page=500)"
   ]
  },
  {
   "cell_type": "code",
   "execution_count": 89,
   "metadata": {},
   "outputs": [],
   "source": [
    "w = list(search_name_and_gps(lat=60.2604953, lon=24.5061496, name=\"Lepolampi\"))"
   ]
  },
  {
   "cell_type": "code",
   "execution_count": 95,
   "metadata": {},
   "outputs": [],
   "source": [
    "def get_picture_url(picture):\n",
    "    try:\n",
    "        return picture.getSizes()['Medium']['source']\n",
    "    except:\n",
    "        return \"Nothing\""
   ]
  },
  {
   "cell_type": "code",
   "execution_count": 90,
   "metadata": {},
   "outputs": [
    {
     "name": "stdout",
     "output_type": "stream",
     "text": [
      "[]\n",
      "https://live.staticflickr.com/5701/30856795036_c3f07e6e0a.jpg\n",
      "---\n",
      "['lepolampi', 'espoo', 'finland']\n",
      "https://live.staticflickr.com/231/535975763_9642add3c5.jpg\n",
      "---\n",
      "['lepolampi', 'espoo', 'finland']\n",
      "https://live.staticflickr.com/1285/535137438_5296a05952.jpg\n",
      "---\n",
      "['lepolampi', 'espoo', 'finland']\n",
      "https://live.staticflickr.com/1431/535133782_8399227762.jpg\n",
      "---\n",
      "['lepolampi', 'espoo', 'finland']\n",
      "https://live.staticflickr.com/1145/535251389_000b701fd4.jpg\n",
      "---\n",
      "['espoo', 'lepolampi', 'finland']\n",
      "https://live.staticflickr.com/1157/535240879_b0ffcea085.jpg\n",
      "---\n",
      "['espoo', 'lepolampi', 'finland']\n",
      "https://live.staticflickr.com/1323/535240837_b86e92c1a3.jpg\n",
      "---\n",
      "['espoo', 'lepolampi', 'finland']\n",
      "https://live.staticflickr.com/1263/535240843_4a042b6d35.jpg\n",
      "---\n",
      "['espoo', 'finland', 'lepolampi']\n",
      "https://live.staticflickr.com/1020/535240195_cda88e9b82.jpg\n",
      "---\n"
     ]
    }
   ],
   "source": [
    "for item in w:\n",
    "    print([t.text for t in item.getInfo()['tags']])\n",
    "    print(get_picture_url(item))\n",
    "    print(\"---\")"
   ]
  },
  {
   "cell_type": "code",
   "execution_count": 85,
   "metadata": {},
   "outputs": [],
   "source": [
    "def extract_tags_and_picture(item):\n",
    "    return {\"tags\": [t.text for t in item.getInfo()['tags']], \"picture_url\": get_picture_url(item)}"
   ]
  },
  {
   "cell_type": "code",
   "execution_count": 77,
   "metadata": {},
   "outputs": [],
   "source": [
    "import json"
   ]
  },
  {
   "cell_type": "code",
   "execution_count": 81,
   "metadata": {},
   "outputs": [],
   "source": [
    "with open(\"nuuksio_locations.json\", \"r\") as read_file:\n",
    "    current_data = json.load(read_file)"
   ]
  },
  {
   "cell_type": "code",
   "execution_count": 83,
   "metadata": {},
   "outputs": [],
   "source": [
    "def get_latlon_and_name(item):\n",
    "    \n",
    "    info = {}\n",
    "    \n",
    "    info[\"name\"] = item[\"name\"]\n",
    "    info[\"lat\"] = item[\"location\"][\"lat\"]\n",
    "    info[\"lon\"] = item['location']['lon']\n",
    "    \n",
    "    return info"
   ]
  },
  {
   "cell_type": "code",
   "execution_count": 96,
   "metadata": {},
   "outputs": [],
   "source": [
    "flickr_data = []\n",
    "for ind, iteem in enumerate(current_data):\n",
    "    info = get_latlon_and_name(iteem)\n",
    "    flickr_response = list(search_name_and_gps(lat=info[\"lat\"], lon=info[\"lon\"], name=info[\"name\"]))\n",
    "#     tnp = extract_tags_and_picture()\n",
    "    tags = [extract_tags_and_picture(pic) for pic in flickr_response]\n",
    "    flickr_data.append(tags)"
   ]
  },
  {
   "cell_type": "code",
   "execution_count": 120,
   "metadata": {},
   "outputs": [],
   "source": [
    "def compile_tags_and_urls(flickr_item):\n",
    "    all_tags = list(set([item for sublist in [thing[\"tags\"] for thing in flickr_item] for item in sublist if len(item) < 20 and \":\" not in item and item not in stop_words.ENGLISH_STOP_WORDS]))\n",
    "    pictures = [fl[\"picture_url\"] for fl in flickr_item]\n",
    "    return {\"tags\": all_tags, \"pictures\": pictures}"
   ]
  },
  {
   "cell_type": "code",
   "execution_count": 121,
   "metadata": {
    "collapsed": true,
    "jupyter": {
     "outputs_hidden": true
    }
   },
   "outputs": [
    {
     "data": {
      "text/plain": [
       "{'tags': ['uusimaa',\n",
       "  'lake',\n",
       "  'espoontori',\n",
       "  'huuhkaja',\n",
       "  'abandoned',\n",
       "  'helsingin',\n",
       "  '2018',\n",
       "  'texture',\n",
       "  'espoonkeskus',\n",
       "  'jää',\n",
       "  'ice',\n",
       "  'building',\n",
       "  'landscape',\n",
       "  'finland',\n",
       "  'day',\n",
       "  'pitkäjärvi',\n",
       "  'orange',\n",
       "  'samsung',\n",
       "  'room',\n",
       "  'light',\n",
       "  'suomi',\n",
       "  'old',\n",
       "  'entresse',\n",
       "  'doorway',\n",
       "  'oven',\n",
       "  'house',\n",
       "  'espoo',\n",
       "  'bubobubo',\n",
       "  'red',\n",
       "  'talvi',\n",
       "  'hvk',\n",
       "  'hugovk',\n",
       "  'winter',\n",
       "  'december',\n",
       "  'autumn',\n",
       "  'window',\n",
       "  'espoodecember2018',\n",
       "  'järvi',\n",
       "  'apartment'],\n",
       " 'pictures': ['https://live.staticflickr.com/65535/40702342013_ed0012cb18.jpg',\n",
       "  'https://live.staticflickr.com/65535/32672953727_c8f7679df6.jpg',\n",
       "  'https://live.staticflickr.com/7899/32197615577_de5aa27db2.jpg',\n",
       "  'https://live.staticflickr.com/7925/32190568567_b287e57300.jpg',\n",
       "  'https://live.staticflickr.com/7911/45746385564_4d1ed0c15a.jpg',\n",
       "  'https://live.staticflickr.com/7835/46469855751_a9f62d60b0.jpg',\n",
       "  'https://live.staticflickr.com/4910/46279312862_b9874dc1c4.jpg',\n",
       "  'https://live.staticflickr.com/4881/45223131095_9523f2ffa8.jpg',\n",
       "  'https://live.staticflickr.com/4840/31195331727_fc26ee87ea.jpg',\n",
       "  'https://live.staticflickr.com/4814/31195317817_716005fe8e.jpg',\n",
       "  'https://live.staticflickr.com/65535/49074353248_443fcb80b9.jpg',\n",
       "  'https://live.staticflickr.com/65535/49072870238_361e8b839c.jpg',\n",
       "  'https://live.staticflickr.com/65535/49073422592_eac706d418.jpg',\n",
       "  'https://live.staticflickr.com/65535/49072667287_07439ac551.jpg',\n",
       "  'https://live.staticflickr.com/65535/49072453401_43c1ec902d.jpg',\n",
       "  'https://live.staticflickr.com/65535/49069069442_2976684157.jpg',\n",
       "  'https://live.staticflickr.com/65535/49068860761_abdeb4b602.jpg',\n",
       "  'https://live.staticflickr.com/65535/49069067187_9e69970c6e.jpg',\n",
       "  'https://live.staticflickr.com/65535/49068337478_c9970d7b62.jpg',\n",
       "  'https://live.staticflickr.com/65535/49068336943_e831c49de9.jpg']}"
      ]
     },
     "execution_count": 121,
     "metadata": {},
     "output_type": "execute_result"
    }
   ],
   "source": [
    "compile_tags_and_urls(flickr_data[0])"
   ]
  },
  {
   "cell_type": "code",
   "execution_count": 123,
   "metadata": {},
   "outputs": [],
   "source": [
    "for stuff, iteeem in zip(flickr_data, current_data):\n",
    "    compiled = compile_tags_and_urls(stuff)\n",
    "    iteeem[\"flickr_tags\"] = compiled[\"tags\"]\n",
    "    iteeem[\"flickr_picture_urls\"] = compiled[\"pictures\"]"
   ]
  },
  {
   "cell_type": "code",
   "execution_count": 125,
   "metadata": {
    "collapsed": true,
    "jupyter": {
     "outputs_hidden": true
    }
   },
   "outputs": [
    {
     "data": {
      "text/plain": [
       "{'id': 'ChIJOSsORHnujUYR_XPCpc-uGU4',\n",
       " 'place_details': {'opening_times': {'open_now': False,\n",
       "   'periods': [{'close': {'day': 0, 'time': '1200'},\n",
       "     'open': {'day': 0, 'time': '0800'}},\n",
       "    {'close': {'day': 1, 'time': '2200'}, 'open': {'day': 1, 'time': '0800'}},\n",
       "    {'close': {'day': 2, 'time': '2200'}, 'open': {'day': 2, 'time': '0800'}},\n",
       "    {'close': {'day': 3, 'time': '2200'}, 'open': {'day': 3, 'time': '0800'}},\n",
       "    {'close': {'day': 4, 'time': '2200'}, 'open': {'day': 4, 'time': '0800'}},\n",
       "    {'close': {'day': 5, 'time': '2200'}, 'open': {'day': 5, 'time': '0800'}},\n",
       "    {'close': {'day': 6, 'time': '2200'}, 'open': {'day': 6, 'time': '0800'}}],\n",
       "   'weekday_text': ['Monday: 8:00 AM – 10:00 PM',\n",
       "    'Tuesday: 8:00 AM – 10:00 PM',\n",
       "    'Wednesday: 8:00 AM – 10:00 PM',\n",
       "    'Thursday: 8:00 AM – 10:00 PM',\n",
       "    'Friday: 8:00 AM – 10:00 PM',\n",
       "    'Saturday: 8:00 AM – 10:00 PM',\n",
       "    'Sunday: 8:00 AM – 12:00 PM']},\n",
       "  'photo_refs': ['CmRaAAAA6H-gNEVxaO2OfXK_8Qgfhrb-LaCcwCkHgVNz37CBn5aO1o2U12cCsyXccQtqd1kj0qpLeopH4cZYRXYnMk40HV9TqSqzO3QeiCc9foIKlKKIyWXECE04VlvidXBXsjlvEhDSwTY04vef30x43IWEILbeGhT7xsRlo1W6ovTrF-PG9Hlt4dSgMw',\n",
       "   'CmRaAAAAK10GNrd7Tw1T3Z2xmDUjOfd8IJ8EJsvVb7kTolrL204rTYnlScpdnyiFoixM9wUrjtPrf_r1j4Hb7cS9qmXyN7nryH4WhRkrwa2iZtahMrrLF8sbpCNxxnWp6mVIoZsfEhDU0LYjNXGqPq8FP7zy3wGPGhSQhsRPzLo1fGI92cin-Z546PN3FA',\n",
       "   'CmRaAAAAfYv39vUKf_-2EJOqozWYUHQi_8OtqZwWptSoyJebQ-HwH2AYftOaU0oCgRQp5aVmn3X9J8uIZFhY8GQgqepi9cPpJcyh3L9Fe7nv_jtDWWmno8HblOzzd0sCrR00RVKxEhBINb36e4PY32MTNxXp_LuqGhSwJIgc0omJN8NMQVkux8VlXTCmCg',\n",
       "   'CmRaAAAAJvEs6rBCRM1h8-JwC7GXclHNoBxsstDWKtM1fJwv2GZ6AZfTwKqjCe6UjygiSsL_AYK-bfUOH3FEZ5Qo0FHK9Z0s0vfigLLMU3Is_L8XCpLfe5B2qaUYCe92l-bviFOVEhDgv5mR8oZLs1Gxl3_Uou7QGhTm-Hgd2yC1g6DfmJcHOZM7lyltxg',\n",
       "   'CmRaAAAAGWLmIUwx6odQpjMOGenEviBcz23WMvRgPkEM6_yiWzLRfv2rW7SbyxO3t_NlACoDyu1bckhtcKQ5ts_wy4eAwmJQV43hzFIoxjHUVkmDjQd6wWaGyZmVpKvtfjyC0IvQEhC_cKNaNfSeoMLK66ABdvV5GhQDGDZTn1ZUGWMK23l2LTkW1w5zZw',\n",
       "   'CmRaAAAA2dwLyAnvLfuf_aYfP6jNtlUXACiwzgX9On8hC1wmUFs2khQHWDt8Vna3k8lQWdHrQ4AuiFLTvxi7LSZrAZHZ2FxHPu3gD9x80gfyqIN10DYc_lFR72Uk4P7Sp1SEvdFAEhD1C1ub3mJXWan6Xpkzi3wjGhS_JUShRrnz_N82CmJxpcz-tbZy_w',\n",
       "   'CmRaAAAAnfVg7yLKr7AUUz3L_-XxbMYcEJPCftxiOY9lEvlEYzXKCWgJoKh7euLMs2deneh98IUTJd-VufTrBkdyxSbUI72Sl2G5pvqymagtk_OpfQhvPx79TUn1UT9LLtvk7TeLEhCHdd8rpevvIZuKMX7UpSyDGhQAM9tm1hguwIDW0qE0E0z6Fhvkhw',\n",
       "   'CmRaAAAAqVAISFK9Jrt-bUFPdmas1X46mz5FN5DcwCYBTWrX2ahJ8EWeOOR94koK5r1xVbyJkWelXBQPSUmAO4xRTCmHXgkSX2fgvWPrRaH-NwR52hZl1GFPeQ_JE_o7bLSmti9hEhAq6sbgB_TnX_bDKwV0ILxNGhQkANh8QSZdZsJU2-3kfz0piobpgw',\n",
       "   'CmRaAAAAOhwvYdDjM8N2j1fR96eLWePgvnGJbAA-bFHFOAgIPPT0bizX8iZ-zyJIWFopHJZcAi3EQS9CFG61ueHMmlYwm8bk9sfIyuBTnF00URf6KiDD_xgVFAytjbV4VfKO2ky9EhDwcVkpc9632SjKAhpsorNyGhRGihI6Uw_97u5BsaxI5_EMro-7QQ',\n",
       "   'CmRaAAAAmIlzzRqQ0fMtJSHdrsq6gb3j5l41n0Qlm64Bl3gCfpas_LFFAzMUHKHtjfe1npxC9v9NeQ-loPz85dUlL02-KG-DH5oDo0QxSkoitGVPUYlm74r8k_jhezh0Jm_pleuXEhALSMYzkEBC0p9YUf0ddgaWGhSQV3F15hJOnhlZn7lMhpvCWyYU1w'],\n",
       "  'rating': 3.6,\n",
       "  'reviews': [{'author_name': 'Noora Kokkonen',\n",
       "    'author_url': 'https://www.google.com/maps/contrib/107738999201926804086/reviews',\n",
       "    'language': 'en',\n",
       "    'profile_photo_url': 'https://lh4.googleusercontent.com/-Z4YpjhVfSHo/AAAAAAAAAAI/AAAAAAAAAAA/ACHi3rc38sXS0ATMT3tTNLBGqaRoAtMhrw/s128-c0x00000000-cc-rp-mo-ba2/photo.jpg',\n",
       "    'rating': 3,\n",
       "    'relative_time_description': '10 months ago',\n",
       "    'text': \"The hotel room for two was clean and very basic. Sauna and swimming pool were nice. There's also a basic gym that hotel guests can use from 8 a.m. to 9 p.m.. Also all the hiking routes to the national park were very accessable.\\n\\nHotel restaurant offers breakfast and buffet lunch and dinner. The food was okay but nothing special and the buffets cost 19e which is quite expensive. Warning about the morning coffee. It was terrible.\",\n",
       "    'time': 1547374490},\n",
       "   {'author_name': 'Martina',\n",
       "    'author_url': 'https://www.google.com/maps/contrib/110192565999852153999/reviews',\n",
       "    'language': 'en',\n",
       "    'profile_photo_url': 'https://lh6.googleusercontent.com/-iEqAFv9H_YE/AAAAAAAAAAI/AAAAAAAAAAA/ACHi3rdSPnDfN2llvRwQK59UprY2E-9oKA/s128-c0x00000000-cc-rp-mo/photo.jpg',\n",
       "    'rating': 1,\n",
       "    'relative_time_description': 'a year ago',\n",
       "    'text': \"Only great thing about this hotel is The National Park surrounding it. There was a sauna by the lakeside but hotel guests could`t use it, even though we stayed for the whole weekend it was totally booked for private events. Sauna indoors was available for two ours, exactly the same two ours that there was a dinner buffet, from 5 to 7 p.m. After that you couldn't get any food and there wasn't even restaurants near. Rooms are very modest with no facilities at all, no fridge or electric kettle etc. The staff seemed pretty bored. Wouldn't stay there again but I do recommend  hiking or trail running in Nuuksio National Park.\",\n",
       "    'time': 1537811286},\n",
       "   {'author_name': 'Annika Hfs',\n",
       "    'author_url': 'https://www.google.com/maps/contrib/105678999866697919331/reviews',\n",
       "    'language': 'en',\n",
       "    'profile_photo_url': 'https://lh3.googleusercontent.com/a-/AAuE7mDtyJ7CQ9UqoP7cZq0foAkF1syfwSL2C9ah6RCeOg=s128-c0x00000000-cc-rp-mo-ba2',\n",
       "    'rating': 3,\n",
       "    'relative_time_description': '11 months ago',\n",
       "    'text': 'Quite simple hotel. Tiny Rooms. Great logation beautyful nature.',\n",
       "    'time': 1544641094},\n",
       "   {'author_name': 'Tatyana Arsenovich',\n",
       "    'author_url': 'https://www.google.com/maps/contrib/111103754043768643915/reviews',\n",
       "    'language': 'en',\n",
       "    'profile_photo_url': 'https://lh3.googleusercontent.com/a-/AAuE7mALKt4mLW7udnOZIWN_MgXSvZ8vxadFB7QvzZHMYQ=s128-c0x00000000-cc-rp-mo',\n",
       "    'rating': 4,\n",
       "    'relative_time_description': 'a year ago',\n",
       "    'text': 'Calm and refreshing place close to Helsinki. Great for hiking.',\n",
       "    'time': 1540297525},\n",
       "   {'author_name': 'Antti Sinikangas',\n",
       "    'author_url': 'https://www.google.com/maps/contrib/108501177981805240044/reviews',\n",
       "    'language': 'en',\n",
       "    'profile_photo_url': 'https://lh3.googleusercontent.com/a-/AAuE7mDD_OBur4LJDVKZczEbWpEGM2lROm-5sWjv-BEtfw=s128-c0x00000000-cc-rp-mo-ba2',\n",
       "    'rating': 4,\n",
       "    'relative_time_description': 'a year ago',\n",
       "    'text': 'Peaceful hotel next to Nuuksio national park. Nice outdoor possibilities, gym and small pool area. Reception closes at 22pm.',\n",
       "    'time': 1528625807}],\n",
       "  'amount_ratings': 234,\n",
       "  'website': 'http://www.hotellinuuksio.fi/'},\n",
       " 'google_types': ['spa',\n",
       "  'lodging',\n",
       "  'park',\n",
       "  'bar',\n",
       "  'restaurant',\n",
       "  'food',\n",
       "  'health',\n",
       "  'point_of_interest',\n",
       "  'establishment'],\n",
       " 'name': 'Hotelli Nuuksio',\n",
       " 'location': {'lat': 60.27881929999999, 'lon': 24.50009},\n",
       " 'flickr_tags': ['uusimaa',\n",
       "  'finland',\n",
       "  'square',\n",
       "  'insta',\n",
       "  'nuuksioclassic',\n",
       "  'trail',\n",
       "  'instagramapp',\n",
       "  'squareformat',\n",
       "  'iphoneography',\n",
       "  'instagram',\n",
       "  'running',\n",
       "  'espoo',\n",
       "  'vscocam',\n",
       "  'marathon',\n",
       "  'kirkkonummi',\n",
       "  'vsco'],\n",
       " 'flickr_picture_urls': ['https://live.staticflickr.com/7312/10457079355_4ce3930432.jpg',\n",
       "  'https://live.staticflickr.com/3669/9640803955_5e891c5f5d.jpg',\n",
       "  'https://live.staticflickr.com/5327/9640803521_7f9e01221f.jpg',\n",
       "  'https://live.staticflickr.com/5530/9640803039_b5ce831376.jpg',\n",
       "  'https://live.staticflickr.com/7375/9644037940_a922ff469f.jpg',\n",
       "  'https://live.staticflickr.com/7291/9640801947_6feeb85bc6.jpg',\n",
       "  'https://live.staticflickr.com/3807/9640801327_a98cbcc2a5.jpg',\n",
       "  'https://live.staticflickr.com/7374/9640800833_dde5b6b8d4.jpg',\n",
       "  'https://live.staticflickr.com/5500/9644035802_fbc0f106bb.jpg',\n",
       "  'https://live.staticflickr.com/5516/9644035338_1c94fb82aa.jpg']}"
      ]
     },
     "execution_count": 125,
     "metadata": {},
     "output_type": "execute_result"
    }
   ],
   "source": [
    "current_data[1]"
   ]
  },
  {
   "cell_type": "code",
   "execution_count": 126,
   "metadata": {},
   "outputs": [],
   "source": [
    "with open('nuuksio_locations_w_flickr.json', 'w') as f:\n",
    "    json.dump(current_data, f)"
   ]
  },
  {
   "cell_type": "code",
   "execution_count": null,
   "metadata": {},
   "outputs": [],
   "source": []
  }
 ],
 "metadata": {
  "kernelspec": {
   "display_name": "Python 3",
   "language": "python",
   "name": "python3"
  },
  "language_info": {
   "codemirror_mode": {
    "name": "ipython",
    "version": 3
   },
   "file_extension": ".py",
   "mimetype": "text/x-python",
   "name": "python",
   "nbconvert_exporter": "python",
   "pygments_lexer": "ipython3",
   "version": "3.7.5"
  }
 },
 "nbformat": 4,
 "nbformat_minor": 4
}
