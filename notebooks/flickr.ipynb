{
 "cells": [
  {
   "cell_type": "code",
   "execution_count": 2,
   "metadata": {},
   "outputs": [],
   "source": [
    "# ! pip install flickr_api"
   ]
  },
  {
   "cell_type": "code",
   "execution_count": 1,
   "metadata": {},
   "outputs": [],
   "source": [
    "import flickr_api\n",
    "flickr_api.set_keys(api_key = 'dd490c0229e641892fe8bab89ebb7e14', api_secret = '9da98577f2bb29ae')"
   ]
  },
  {
   "cell_type": "code",
   "execution_count": 2,
   "metadata": {},
   "outputs": [],
   "source": [
    "photos = flickr_api.Photo.search(lon=24.517, lat=60.309639, radius='0.5', radius_units=\"km\")\n",
    "# photos = flickr_api.Photo.search(tags=\"nuuksio\", has_geo=True)"
   ]
  },
  {
   "cell_type": "code",
   "execution_count": 4,
   "metadata": {},
   "outputs": [
    {
     "data": {
      "text/plain": [
       "{'id': '48073482967',\n",
       " 'secret': 'baf2af737a',\n",
       " 'server': '65535',\n",
       " 'farm': 66,\n",
       " 'dateuploaded': '1560699584',\n",
       " 'isfavorite': 0,\n",
       " 'license': '0',\n",
       " 'safety_level': '0',\n",
       " 'rotation': 0,\n",
       " 'owner': Person(id=b'38392177@N06', username=b'Enn Raav'),\n",
       " 'title': '20190522_9394_Nuuksio',\n",
       " 'description': '',\n",
       " 'views': '61',\n",
       " 'editability': {'cancomment': 0, 'canaddmeta': 0},\n",
       " 'comments': '0',\n",
       " 'notes': [],\n",
       " 'people': {'haspeople': 0},\n",
       " 'tags': [Tag(id=b'38346855-480734829..., text=b'finland'),\n",
       "  Tag(id=b'38346855-480734829..., text=b'nuuksio'),\n",
       "  Tag(id=b'38346855-480734829..., text=b'noux'),\n",
       "  Tag(id=b'38346855-480734829..., text=b'nuuksionationalpar...),\n",
       "  Tag(id=b'38346855-480734829..., text=b'soome'),\n",
       "  Tag(id=b'38346855-480734829..., text=b'suomi'),\n",
       "  Tag(id=b'38346855-480734829..., text=b'nature')],\n",
       " 'location': {'latitude': '60.307005',\n",
       "  'longitude': '24.504380',\n",
       "  'accuracy': '16',\n",
       "  'context': '0',\n",
       "  'locality': 'Vihti',\n",
       "  'county': 'Helsinki',\n",
       "  'region': 'Newland',\n",
       "  'country': 'Finland',\n",
       "  'neighbourhood': ''},\n",
       " 'geoperms': {'ispublic': 1, 'iscontact': 0, 'isfriend': 0, 'isfamily': 0},\n",
       " 'urls': {'url': [{'type': 'photopage',\n",
       "    'text': 'https://www.flickr.com/photos/ennraav/48073482967/'}]},\n",
       " 'media': 'photo',\n",
       " 'candownload': 0,\n",
       " 'canblog': 0,\n",
       " 'canprint': 0,\n",
       " 'canshare': 1,\n",
       " 'ispublic': 1,\n",
       " 'isfriend': 0,\n",
       " 'isfamily': 0,\n",
       " 'cancomment': 1,\n",
       " 'canaddmeta': 0,\n",
       " 'posted': '1560699584',\n",
       " 'taken': '2019-05-22 18:00:01',\n",
       " 'takengranularity': '0',\n",
       " 'takenunknown': '0',\n",
       " 'lastupdate': '1562810350'}"
      ]
     },
     "execution_count": 4,
     "metadata": {},
     "output_type": "execute_result"
    }
   ],
   "source": [
    "photos[8].getInfo()"
   ]
  },
  {
   "cell_type": "code",
   "execution_count": 4,
   "metadata": {},
   "outputs": [
    {
     "data": {
      "text/plain": [
       "250"
      ]
     },
     "execution_count": 4,
     "metadata": {},
     "output_type": "execute_result"
    }
   ],
   "source": [
    "len(photos)"
   ]
  },
  {
   "cell_type": "code",
   "execution_count": 6,
   "metadata": {},
   "outputs": [],
   "source": [
    "w = flickr_api.Walker(flickr_api.Photo.search, tags=\"nuuksio\", has_geo=True, per_page=500)"
   ]
  },
  {
   "cell_type": "code",
   "execution_count": 7,
   "metadata": {},
   "outputs": [
    {
     "data": {
      "text/plain": [
       "<flickr_api.objects.Walker at 0x10c230cd0>"
      ]
     },
     "execution_count": 7,
     "metadata": {},
     "output_type": "execute_result"
    }
   ],
   "source": [
    "w"
   ]
  },
  {
   "cell_type": "code",
   "execution_count": 9,
   "metadata": {},
   "outputs": [
    {
     "name": "stdout",
     "output_type": "stream",
     "text": [
      "{'id': '48854374506', 'secret': '19e3890f49', 'server': '65535', 'farm': 66, 'dateuploaded': '1570387233', 'isfavorite': 0, 'license': '0', 'safety_level': '0', 'rotation': 0, 'owner': Person(id=b'63830461@N02', username=b'Bunaro'), 'title': 'Days of Promise', 'description': 'Spent some quality time in Nuuksio National Park. The lunch I brought was cold but in such beautiful place it was nothing but perfect.', 'views': '1230', 'editability': {'cancomment': 0, 'canaddmeta': 0}, 'comments': '5', 'notes': [], 'people': {'haspeople': 0}, 'tags': [Tag(id=b'63810113-488543745..., text=b'nuuksio'), Tag(id=b'63810113-488543745..., text=b'noux'), Tag(id=b'63810113-488543745..., text=b'espoo'), Tag(id=b'63810113-488543745..., text=b'kansallispuisto'), Tag(id=b'63810113-488543745..., text=b'national'), Tag(id=b'63810113-488543745..., text=b'park'), Tag(id=b'63810113-488543745..., text=b'suomi'), Tag(id=b'63810113-488543745..., text=b'finland'), Tag(id=b'63810113-488543745..., text=b'visitfinland'), Tag(id=b'63810113-488543745..., text=b'ourfinland'), Tag(id=b'63810113-488543745..., text=b'autumn'), Tag(id=b'63810113-488543745..., text=b'fall'), Tag(id=b'63810113-488543745..., text=b'season'), Tag(id=b'63810113-488543745..., text=b'yellow'), Tag(id=b'63810113-488543745..., text=b'foliage'), Tag(id=b'63810113-488543745..., text=b'cold'), Tag(id=b'63810113-488543745..., text=b'trees'), Tag(id=b'63810113-488543745..., text=b'canon'), Tag(id=b'63810113-488543745..., text=b'rp'), Tag(id=b'63810113-488543745..., text=b'canonrp'), Tag(id=b'63810113-488543745..., text=b'1635'), Tag(id=b'63810113-488543745..., text=b'nature'), Tag(id=b'63810113-488543745..., text=b'landscape'), Tag(id=b'63810113-488543745..., text=b'waterscape'), Tag(id=b'63810113-488543745..., text=b'symmetry'), Tag(id=b'63810113-488543745..., text=b'pier'), Tag(id=b'63810113-488543745..., text=b'dock')], 'location': {'latitude': '60.309723', 'longitude': '24.513609', 'accuracy': '15', 'context': '0', 'locality': 'Espoo', 'county': 'Helsinki', 'region': 'Newland', 'country': 'Finland', 'neighbourhood': 'Nuuksionpää'}, 'geoperms': {'ispublic': 1, 'iscontact': 0, 'isfriend': 0, 'isfamily': 0}, 'urls': {'url': [{'type': 'photopage', 'text': 'https://www.flickr.com/photos/bunaro/48854374506/'}]}, 'media': 'photo', 'candownload': 0, 'canblog': 0, 'canprint': 0, 'canshare': 1, 'ispublic': 1, 'isfriend': 0, 'isfamily': 0, 'cancomment': 1, 'canaddmeta': 0, 'posted': '1570387233', 'taken': '2019-10-06 13:54:52', 'takengranularity': '0', 'takenunknown': '0', 'lastupdate': '1571908229'}\n"
     ]
    }
   ],
   "source": [
    "for item in w:\n",
    "    print(item.getInfo())\n",
    "    break"
   ]
  },
  {
   "cell_type": "code",
   "execution_count": null,
   "metadata": {},
   "outputs": [],
   "source": []
  }
 ],
 "metadata": {
  "kernelspec": {
   "display_name": "Python 3",
   "language": "python",
   "name": "python3"
  },
  "language_info": {
   "codemirror_mode": {
    "name": "ipython",
    "version": 3
   },
   "file_extension": ".py",
   "mimetype": "text/x-python",
   "name": "python",
   "nbconvert_exporter": "python",
   "pygments_lexer": "ipython3",
   "version": "3.7.5"
  }
 },
 "nbformat": 4,
 "nbformat_minor": 4
}
